{
 "cells": [
  {
   "cell_type": "code",
   "execution_count": null,
   "metadata": {},
   "outputs": [],
   "source": [
    "import pandas as pd\n",
    "import numpy as np\n",
    "import psycopg2"
   ]
  },
  {
   "cell_type": "code",
   "execution_count": null,
   "metadata": {},
   "outputs": [],
   "source": [
    "df12 = pd.DataFrame(['2018-10-20 10:00:00','2018-10-20 00:11:00','2018-10-20 10:00:01'])"
   ]
  },
  {
   "cell_type": "code",
   "execution_count": null,
   "metadata": {},
   "outputs": [],
   "source": [
    "pd.to_datetime(df12[0],format = '%Y-%m-%d %H:%M:%S')"
   ]
  },
  {
   "cell_type": "code",
   "execution_count": null,
   "metadata": {},
   "outputs": [],
   "source": [
    "a = [['shreyash',-87.683791,41.868979,pd.Timestamp(2018,10,19,10,0,0),pd.Timestamp(2018,10,19,10,30,0),'driving'],     \n",
    "     ['shreyash',-87.680367,41.869313,pd.Timestamp(2018,10,19,10,30,0),pd.Timestamp(2018,10,19,10,30,8),'walking'],\n",
    "     ['shreyash',-87.680367,41.869313,pd.Timestamp(2018,10,19,10,30,8),pd.Timestamp(2018,10,19,10,45,8),'driving'],\n",
    "    \n",
    "     ['shreyash',-87.675471,41.871442,pd.Timestamp(2018,10,19,10,45,8),pd.Timestamp(2018,10,19,10,45,16),'walking'],\n",
    "    ['shreyash',-87.675471,41.871442,pd.Timestamp(2018,10,19,10,45,16),pd.Timestamp(2018,10,19,11,0,0),'driving'],\n",
    "    \n",
    "     ['shreyash',-87.673883,41.871476,pd.Timestamp(2018,10,19,11,0,0),pd.Timestamp(2018,10,19,11,0,10),'walking'],\n",
    "      ['shreyash',-87.673883,41.871476,pd.Timestamp(2018,10,19,11,0,10),pd.Timestamp(2018,10,19,11,15,10),'driving'],\n",
    "    \n",
    "     ['shreyash',-87.671587,41.871452,pd.Timestamp(2018,10,19,11,15,10),pd.Timestamp(2018,10,19,11,15,18),'walking'],\n",
    "         ['shreyash',-87.671587,41.871452,pd.Timestamp(2018,10,19,11,15,18),pd.Timestamp(2018,10,19,11,30,0),'driving'],\n",
    "    \n",
    "     ['shreyash',-87.671000,41.869050,pd.Timestamp(2018,10,19,11,30,0),pd.Timestamp(2018,10,19,11,31,8),'walking'],         \n",
    "    \n",
    "     ['shreyash',-87.683791,41.868979,pd.Timestamp(2018,10,18,10,0,0),pd.Timestamp(2018,10,18,10,30,0),'walking'],\n",
    "    \n",
    "     \n",
    "     ['shreyash',-87.683791,41.868979,pd.Timestamp(2018,10,20,10,0,0),pd.Timestamp(2018,10,20,10,30,0),'driving'],     \n",
    "     ['shreyash',-87.680367,41.869313,pd.Timestamp(2018,10,20,10,30,0),pd.Timestamp(2018,10,20,10,30,8),'walking'],\n",
    "     ['shreyash',-87.680367,41.869313,pd.Timestamp(2018,10,20,10,30,8),pd.Timestamp(2018,10,20,10,45,8),'driving'],\n",
    "    \n",
    "     ['shreyash',-87.675471,41.871442,pd.Timestamp(2018,10,20,10,45,8),pd.Timestamp(2018,10,20,10,45,16),'walking'],\n",
    "    ['shreyash',-87.675471,41.871442,pd.Timestamp(2018,10,20,10,45,16),pd.Timestamp(2018,10,20,11,0,0),'driving'],\n",
    "    \n",
    "     ['shreyash',-87.673883,41.871476,pd.Timestamp(2018,10,20,11,0,0),pd.Timestamp(2018,10,20,11,0,10),'walking'],\n",
    "      ['shreyash',-87.673883,41.871476,pd.Timestamp(2018,10,20,11,0,10),pd.Timestamp(2018,10,20,11,15,10),'driving'],\n",
    "    \n",
    "     ['shreyash',-87.671587,41.871452,pd.Timestamp(2018,10,20,11,15,10),pd.Timestamp(2018,10,20,11,15,18),'walking'],\n",
    "         ['shreyash',-87.671587,41.871452,pd.Timestamp(2018,10,20,11,15,18),pd.Timestamp(2018,10,20,11,30,0),'walking'],\n",
    "    \n",
    "     ['shreyash',-87.671000,41.869050,pd.Timestamp(2018,10,20,11,30,0),pd.Timestamp(2018,10,20,11,31,8),'walking'],         \n",
    "    \n",
    "     ['shreyash',-87.683791,41.868979,pd.Timestamp(2018,10,20,10,0,0),pd.Timestamp(2018,10,20,10,30,0),'walking'],\n",
    "     \n",
    "    ['shreyash',-87.683791,41.868979,pd.Timestamp(2018,10,21,10,0,0),pd.Timestamp(2018,10,21,10,30,0),'driving'],     \n",
    "     ['shreyash',-87.680367,41.869313,pd.Timestamp(2018,10,21,10,30,0),pd.Timestamp(2018,10,21,10,30,8),'walking'],\n",
    "     ['shreyash',-87.680367,41.869313,pd.Timestamp(2018,10,21,10,30,8),pd.Timestamp(2018,10,21,10,45,8),'driving'],\n",
    "    \n",
    "     ['shreyash',-87.675471,41.871442,pd.Timestamp(2018,10,21,10,45,8),pd.Timestamp(2018,10,21,10,45,16),'walking'],\n",
    "     ['shreyash',-87.675471,41.871442,pd.Timestamp(2018,10,21,10,45,16),pd.Timestamp(2018,10,21,11,0,0),'driving'],\n",
    "    \n",
    "    \n",
    "     ['shreyash',-87.673883,41.871476,pd.Timestamp(2018,10,21,11,0,0),pd.Timestamp(2018,10,21,11,0,10),'walking'],\n",
    "      ['shreyash',-87.673883,41.871476,pd.Timestamp(2018,10,21,11,0,10),pd.Timestamp(2018,10,21,11,15,10),'driving'],\n",
    "    \n",
    "     ['shreyash',-87.671587,41.871452,pd.Timestamp(2018,10,21,11,15,10),pd.Timestamp(2018,10,21,11,15,18),'walking'],\n",
    "         ['shreyash',-87.671587,41.871452,pd.Timestamp(2018,10,21,11,15,18),pd.Timestamp(2018,10,21,11,30,0),'driving'],\n",
    "    \n",
    "     ['shreyash',-87.671000,41.869050,pd.Timestamp(2018,10,21,11,30,0),pd.Timestamp(2018,10,21,11,31,8),'walking'],         \n",
    "    \n",
    "     ['shreyash',-87.683791,41.868979,pd.Timestamp(2018,10,21,10,0,0),pd.Timestamp(2018,10,21,10,30,0),'walking']]\n",
    "        \n",
    "    \n",
    "#      ['shreyash',-87.680367,41.869313,pd.Timestamp(2018,10,18,10,30,10),pd.Timestamp(2018,10,18,10,45,0),'driving'],\n",
    "#      ['shreyash',-87.680367,41.869313,pd.Timestamp(2018,10,18,10,30,10),pd.Timestamp(2018,10,18,10,45,0),'walking'],\n",
    "    \n",
    "#      ['shreyash',-87.675471,41.871442,pd.Timestamp(2018,10,18,10,45,8),pd.Timestamp(2018,10,18,11,0,0),'driving'],\n",
    "    \n",
    "#      ['shreyash',-87.673883,41.871476,pd.Timestamp(2018,10,18,11,0,15),pd.Timestamp(2018,10,18,11,15,10),'driving'],\n",
    "    \n",
    "#      ['shreyash',-87.671587,41.871452,pd.Timestamp(2018,10,18,11,15,18),pd.Timestamp(2018,10,18,11,30,0),'driving'],\n",
    "    \n",
    "#      ['shreyash',-87.671000,41.869050,pd.Timestamp(2018,10,18,11,30,0),pd.Timestamp(2018,10,18,11,40,0),'walking'],\n",
    "    \n",
    "#      ['shreyash',-87.683791,41.868979,pd.Timestamp(2018,10,21,10,0,0),pd.Timestamp(2018,10,21,10,30,0),'driving'],\n",
    "    \n",
    "#      ['shreyash',-87.680367,41.869313,pd.Timestamp(2018,10,21,10,30,10),pd.Timestamp(2018,10,21,10,45,0),'driving'],\n",
    "    \n",
    "#      ['shreyash',-87.675471,41.871442,pd.Timestamp(2018,10,21,10,45,8),pd.Timestamp(2018,10,21,11,0,0),'driving'],\n",
    "    \n",
    "#      ['shreyash',-87.673883,41.871476,pd.Timestamp(2018,10,21,11,0,15),pd.Timestamp(2018,10,21,11,15,10),'driving'],\n",
    "    \n",
    "#      ['shreyash',-87.671587,41.871452,pd.Timestamp(2018,10,21,11,15,18),pd.Timestamp(2018,10,21,11,30,0),'walking'],\n",
    "    \n",
    "#      ['shreyash',-87.671000,41.869050,pd.Timestamp(2018,10,21,11,30,0),pd.Timestamp(2018,10,21,11,40,0),'walking']]"
   ]
  },
  {
   "cell_type": "code",
   "execution_count": null,
   "metadata": {},
   "outputs": [],
   "source": [
    "df = pd.DataFrame(data = a,columns = ['username','lon','lat','start_time','end_time','activity'])"
   ]
  },
  {
   "cell_type": "code",
   "execution_count": null,
   "metadata": {},
   "outputs": [],
   "source": []
  },
  {
   "cell_type": "code",
   "execution_count": null,
   "metadata": {},
   "outputs": [],
   "source": [
    "conn = psycopg2.connect(host=\"localhost\",database=\"trial\", user=\"postgres\", password=\"root\")\n"
   ]
  },
  {
   "cell_type": "code",
   "execution_count": null,
   "metadata": {},
   "outputs": [],
   "source": [
    "import datetime\n",
    "xyz=0\n",
    "now = datetime.datetime.now()\n",
    "a = []\n",
    "for c in range(0,1000):\n",
    "    count=0\n",
    "    start_index,end_index = 0,0\n",
    "    for index,rows in df.iterrows():      \n",
    "\n",
    "        if index == 0 or index == 1:\n",
    "            pass\n",
    "\n",
    "        if(rows['activity']=='driving'):\n",
    "            if (df['activity'].iloc[index-1]=='walking') and (df['activity'].iloc[index-2]=='driving'):\n",
    "                if(df['end_time'].iloc[index-1]-df['start_time'].iloc[index-1]).total_seconds() >7:\n",
    "                        cur = conn.cursor()\n",
    "                        sql = 'select * from busstop where ST_DWithin(geom, st_setsrid(st_makepoint('+str(rows['lon'])+','+str(rows['lat'])+'),4326)::geography,15);'\n",
    "                        cur.execute(sql)\n",
    "                        rows1 = cur.fetchall()\n",
    "                        if rows1:\n",
    "                            count+=1\n",
    "        if((rows['activity'] =='walking') and (rows['end_time']-rows['start_time']).total_seconds() >60):# and ((rows['start_time']-df['end_time'].iloc[index-1]).total_seconds()>300)):\n",
    "            count=0\n",
    "            end_index = index-1\n",
    "        if(rows['activity']=='walking' and df['activity'].iloc[index-1] =='walking'):\n",
    "            start_index,end_index = index,index\n",
    "        if(rows['activity']=='cycling'):\n",
    "            pass\n",
    "\n",
    "        bus_stops = int(((end_index-start_index)/2)+1)\n",
    "        if bus_stops>4:\n",
    "    #          for i in range(start_index,end_index+1,2):\n",
    "    #              df['activity'] = 'bus_ride'\n",
    "            a.append([start_index,end_index])        \n",
    "            #print('bus_ride')\n",
    "            xyz+=1\n",
    "            start_index = end_index\n",
    "    c+=1\n",
    "    \n",
    "later = datetime.datetime.now()\n",
    "print(later-now)\n",
    "print(xyz)\n",
    "        \n",
    "            \n",
    "    "
   ]
  },
  {
   "cell_type": "code",
   "execution_count": null,
   "metadata": {},
   "outputs": [],
   "source": [
    "conn.close()"
   ]
  },
  {
   "cell_type": "code",
   "execution_count": null,
   "metadata": {},
   "outputs": [],
   "source": [
    "for i in a:\n",
    "    for j in range(i[0],i[1]+1,2):\n",
    "        df['activity'].iloc[j] = 'bus_ride'\n",
    "    "
   ]
  },
  {
   "cell_type": "code",
   "execution_count": null,
   "metadata": {},
   "outputs": [],
   "source": [
    "df['activity'] = df['activity'].replace('driving',value = 'car_ride')"
   ]
  },
  {
   "cell_type": "code",
   "execution_count": null,
   "metadata": {},
   "outputs": [],
   "source": [
    "df"
   ]
  },
  {
   "cell_type": "code",
   "execution_count": null,
   "metadata": {},
   "outputs": [],
   "source": []
  }
 ],
 "metadata": {
  "kernelspec": {
   "display_name": "Python 3",
   "language": "python",
   "name": "python3"
  },
  "language_info": {
   "codemirror_mode": {
    "name": "ipython",
    "version": 3
   },
   "file_extension": ".py",
   "mimetype": "text/x-python",
   "name": "python",
   "nbconvert_exporter": "python",
   "pygments_lexer": "ipython3",
   "version": "3.6.4"
  }
 },
 "nbformat": 4,
 "nbformat_minor": 2
}
